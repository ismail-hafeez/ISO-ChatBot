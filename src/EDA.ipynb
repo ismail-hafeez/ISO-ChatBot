{
 "cells": [
  {
   "cell_type": "code",
   "execution_count": 1,
   "id": "e6958a9a",
   "metadata": {},
   "outputs": [],
   "source": [
    "import pandas as pd"
   ]
  },
  {
   "cell_type": "code",
   "execution_count": null,
   "id": "7e7d0b9d",
   "metadata": {},
   "outputs": [
    {
     "data": {
      "text/html": [
       "<div>\n",
       "<style scoped>\n",
       "    .dataframe tbody tr th:only-of-type {\n",
       "        vertical-align: middle;\n",
       "    }\n",
       "\n",
       "    .dataframe tbody tr th {\n",
       "        vertical-align: top;\n",
       "    }\n",
       "\n",
       "    .dataframe thead th {\n",
       "        text-align: right;\n",
       "    }\n",
       "</style>\n",
       "<table border=\"1\" class=\"dataframe\">\n",
       "  <thead>\n",
       "    <tr style=\"text-align: right;\">\n",
       "      <th></th>\n",
       "      <th>identifier</th>\n",
       "      <th>parent</th>\n",
       "      <th>titleEn</th>\n",
       "      <th>titleFr</th>\n",
       "      <th>scopeEn</th>\n",
       "      <th>scopeFr</th>\n",
       "    </tr>\n",
       "  </thead>\n",
       "  <tbody>\n",
       "    <tr>\n",
       "      <th>0</th>\n",
       "      <td>01</td>\n",
       "      <td>NaN</td>\n",
       "      <td>Generalities. Terminology. Standardization. Do...</td>\n",
       "      <td>Généralités. Terminologie. Normalisation. Docu...</td>\n",
       "      <td>NaN</td>\n",
       "      <td>NaN</td>\n",
       "    </tr>\n",
       "    <tr>\n",
       "      <th>1</th>\n",
       "      <td>03</td>\n",
       "      <td>NaN</td>\n",
       "      <td>Services. Company organization, management and...</td>\n",
       "      <td>Services. Organisation de l'entreprise. Gestio...</td>\n",
       "      <td>NaN</td>\n",
       "      <td>NaN</td>\n",
       "    </tr>\n",
       "    <tr>\n",
       "      <th>2</th>\n",
       "      <td>07</td>\n",
       "      <td>NaN</td>\n",
       "      <td>Natural and applied sciences</td>\n",
       "      <td>Sciences naturelles et sciences appliquées</td>\n",
       "      <td>NaN</td>\n",
       "      <td>NaN</td>\n",
       "    </tr>\n",
       "    <tr>\n",
       "      <th>3</th>\n",
       "      <td>11</td>\n",
       "      <td>NaN</td>\n",
       "      <td>Health care technology</td>\n",
       "      <td>Technologies de la santé</td>\n",
       "      <td>NaN</td>\n",
       "      <td>NaN</td>\n",
       "    </tr>\n",
       "    <tr>\n",
       "      <th>4</th>\n",
       "      <td>13</td>\n",
       "      <td>NaN</td>\n",
       "      <td>Environment. Health protection. Safety</td>\n",
       "      <td>Environnement. Protection de la santé. Sécurité</td>\n",
       "      <td>NaN</td>\n",
       "      <td>NaN</td>\n",
       "    </tr>\n",
       "  </tbody>\n",
       "</table>\n",
       "</div>"
      ],
      "text/plain": [
       "  identifier  parent                                            titleEn  \\\n",
       "0         01     NaN  Generalities. Terminology. Standardization. Do...   \n",
       "1         03     NaN  Services. Company organization, management and...   \n",
       "2         07     NaN                       Natural and applied sciences   \n",
       "3         11     NaN                             Health care technology   \n",
       "4         13     NaN             Environment. Health protection. Safety   \n",
       "\n",
       "                                             titleFr scopeEn scopeFr  \n",
       "0  Généralités. Terminologie. Normalisation. Docu...     NaN     NaN  \n",
       "1  Services. Organisation de l'entreprise. Gestio...     NaN     NaN  \n",
       "2         Sciences naturelles et sciences appliquées     NaN     NaN  \n",
       "3                           Technologies de la santé     NaN     NaN  \n",
       "4    Environnement. Protection de la santé. Sécurité     NaN     NaN  "
      ]
     },
     "execution_count": 2,
     "metadata": {},
     "output_type": "execute_result"
    }
   ],
   "source": [
    "file_path = \"../data/ICS.csv\"\n",
    "# reading CSV and skipping bad lines\n",
    "df = pd.read_csv(file_path, on_bad_lines='skip')\n",
    "df.head"
   ]
  },
  {
   "cell_type": "code",
   "execution_count": 4,
   "id": "18a3b4f6",
   "metadata": {},
   "outputs": [
    {
     "name": "stdout",
     "output_type": "stream",
     "text": [
      "NULL values in dataset\n"
     ]
    },
    {
     "data": {
      "text/plain": [
       "identifier      0\n",
       "parent         40\n",
       "titleEn         0\n",
       "titleFr         0\n",
       "scopeEn       995\n",
       "scopeFr       995\n",
       "dtype: int64"
      ]
     },
     "execution_count": 4,
     "metadata": {},
     "output_type": "execute_result"
    }
   ],
   "source": [
    "print(\"NULL values in dataset\")\n",
    "df.isnull().sum()"
   ]
  },
  {
   "cell_type": "code",
   "execution_count": 6,
   "id": "87526c75",
   "metadata": {},
   "outputs": [
    {
     "name": "stdout",
     "output_type": "stream",
     "text": [
      "Shape of Dataframe: (1380, 6)\n"
     ]
    }
   ],
   "source": [
    "print(f\"Shape of Dataframe: {df.shape}\")"
   ]
  },
  {
   "cell_type": "code",
   "execution_count": null,
   "id": "6b6bde6c",
   "metadata": {},
   "outputs": [],
   "source": [
    "# Dropping FRENCH Titles and Scopes\n",
    "df.drop(['titleFr', 'scopeFr', 'parent'], axis=1, inplace=True)"
   ]
  },
  {
   "cell_type": "code",
   "execution_count": 12,
   "id": "b267abe5",
   "metadata": {},
   "outputs": [
    {
     "data": {
      "text/html": [
       "<div>\n",
       "<style scoped>\n",
       "    .dataframe tbody tr th:only-of-type {\n",
       "        vertical-align: middle;\n",
       "    }\n",
       "\n",
       "    .dataframe tbody tr th {\n",
       "        vertical-align: top;\n",
       "    }\n",
       "\n",
       "    .dataframe thead th {\n",
       "        text-align: right;\n",
       "    }\n",
       "</style>\n",
       "<table border=\"1\" class=\"dataframe\">\n",
       "  <thead>\n",
       "    <tr style=\"text-align: right;\">\n",
       "      <th></th>\n",
       "      <th>identifier</th>\n",
       "      <th>titleEn</th>\n",
       "      <th>scopeEn</th>\n",
       "    </tr>\n",
       "  </thead>\n",
       "  <tbody>\n",
       "    <tr>\n",
       "      <th>0</th>\n",
       "      <td>01</td>\n",
       "      <td>Generalities. Terminology. Standardization. Do...</td>\n",
       "      <td>NaN</td>\n",
       "    </tr>\n",
       "    <tr>\n",
       "      <th>1</th>\n",
       "      <td>03</td>\n",
       "      <td>Services. Company organization, management and...</td>\n",
       "      <td>NaN</td>\n",
       "    </tr>\n",
       "    <tr>\n",
       "      <th>2</th>\n",
       "      <td>07</td>\n",
       "      <td>Natural and applied sciences</td>\n",
       "      <td>NaN</td>\n",
       "    </tr>\n",
       "    <tr>\n",
       "      <th>3</th>\n",
       "      <td>11</td>\n",
       "      <td>Health care technology</td>\n",
       "      <td>NaN</td>\n",
       "    </tr>\n",
       "    <tr>\n",
       "      <th>4</th>\n",
       "      <td>13</td>\n",
       "      <td>Environment. Health protection. Safety</td>\n",
       "      <td>NaN</td>\n",
       "    </tr>\n",
       "  </tbody>\n",
       "</table>\n",
       "</div>"
      ],
      "text/plain": [
       "  identifier                                            titleEn scopeEn\n",
       "0         01  Generalities. Terminology. Standardization. Do...     NaN\n",
       "1         03  Services. Company organization, management and...     NaN\n",
       "2         07                       Natural and applied sciences     NaN\n",
       "3         11                             Health care technology     NaN\n",
       "4         13             Environment. Health protection. Safety     NaN"
      ]
     },
     "execution_count": 12,
     "metadata": {},
     "output_type": "execute_result"
    }
   ],
   "source": [
    "df.head()"
   ]
  },
  {
   "cell_type": "code",
   "execution_count": null,
   "id": "aeeaa1a8",
   "metadata": {},
   "outputs": [
    {
     "data": {
      "text/html": [
       "<div>\n",
       "<style scoped>\n",
       "    .dataframe tbody tr th:only-of-type {\n",
       "        vertical-align: middle;\n",
       "    }\n",
       "\n",
       "    .dataframe tbody tr th {\n",
       "        vertical-align: top;\n",
       "    }\n",
       "\n",
       "    .dataframe thead th {\n",
       "        text-align: right;\n",
       "    }\n",
       "</style>\n",
       "<table border=\"1\" class=\"dataframe\">\n",
       "  <thead>\n",
       "    <tr style=\"text-align: right;\">\n",
       "      <th></th>\n",
       "      <th>identifier</th>\n",
       "      <th>titleEn</th>\n",
       "      <th>scopeEn</th>\n",
       "    </tr>\n",
       "  </thead>\n",
       "  <tbody>\n",
       "    <tr>\n",
       "      <th>0</th>\n",
       "      <td>01.020</td>\n",
       "      <td>Terminology (principles and coordination)</td>\n",
       "      <td>Including terminography</td>\n",
       "    </tr>\n",
       "    <tr>\n",
       "      <th>1</th>\n",
       "      <td>01.040</td>\n",
       "      <td>Vocabularies</td>\n",
       "      <td>NaN</td>\n",
       "    </tr>\n",
       "    <tr>\n",
       "      <th>2</th>\n",
       "      <td>01.060</td>\n",
       "      <td>Quantities and units</td>\n",
       "      <td>NaN</td>\n",
       "    </tr>\n",
       "    <tr>\n",
       "      <th>3</th>\n",
       "      <td>01.070</td>\n",
       "      <td>Colour coding</td>\n",
       "      <td>NaN</td>\n",
       "    </tr>\n",
       "    <tr>\n",
       "      <th>4</th>\n",
       "      <td>01.075</td>\n",
       "      <td>Character symbols</td>\n",
       "      <td>NaN</td>\n",
       "    </tr>\n",
       "  </tbody>\n",
       "</table>\n",
       "</div>"
      ],
      "text/plain": [
       "  identifier                                    titleEn  \\\n",
       "0     01.020  Terminology (principles and coordination)   \n",
       "1     01.040                               Vocabularies   \n",
       "2     01.060                       Quantities and units   \n",
       "3     01.070                              Colour coding   \n",
       "4     01.075                          Character symbols   \n",
       "\n",
       "                   scopeEn  \n",
       "0  Including terminography  \n",
       "1                      NaN  \n",
       "2                      NaN  \n",
       "3                      NaN  \n",
       "4                      NaN  "
      ]
     },
     "execution_count": 29,
     "metadata": {},
     "output_type": "execute_result"
    }
   ],
   "source": [
    "# dropping the first 40 rows\n",
    "df.drop(df.index[:40], inplace=True)\n",
    "# reseting the index from 0\n",
    "df.reset_index(drop=True, inplace=True)\n",
    "\n",
    "df.head()"
   ]
  },
  {
   "cell_type": "code",
   "execution_count": null,
   "id": "b4e615c0",
   "metadata": {},
   "outputs": [],
   "source": [
    "# saving to CSV\n",
    "df.to_csv(\"../data/cleaned_ICS.csv\")"
   ]
  }
 ],
 "metadata": {
  "kernelspec": {
   "display_name": "venv",
   "language": "python",
   "name": "python3"
  },
  "language_info": {
   "codemirror_mode": {
    "name": "ipython",
    "version": 3
   },
   "file_extension": ".py",
   "mimetype": "text/x-python",
   "name": "python",
   "nbconvert_exporter": "python",
   "pygments_lexer": "ipython3",
   "version": "3.11.4"
  }
 },
 "nbformat": 4,
 "nbformat_minor": 5
}
